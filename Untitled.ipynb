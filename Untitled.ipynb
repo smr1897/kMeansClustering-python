{
 "cells": [
  {
   "cell_type": "code",
   "execution_count": 1,
   "id": "dd5c4b81",
   "metadata": {},
   "outputs": [
    {
     "ename": "SyntaxError",
     "evalue": "(unicode error) 'unicodeescape' codec can't decode bytes in position 2-3: truncated \\UXXXXXXXX escape (3379055375.py, line 6)",
     "output_type": "error",
     "traceback": [
      "\u001b[1;36m  Cell \u001b[1;32mIn[1], line 6\u001b[1;36m\u001b[0m\n\u001b[1;33m    image = mpl.image.imread('C:\\Users\\Sahan Rajapaksha\\Documents\\python\\kMeansClustering\\dog.jpg')\u001b[0m\n\u001b[1;37m                                                                                                  ^\u001b[0m\n\u001b[1;31mSyntaxError\u001b[0m\u001b[1;31m:\u001b[0m (unicode error) 'unicodeescape' codec can't decode bytes in position 2-3: truncated \\UXXXXXXXX escape\n"
     ]
    }
   ],
   "source": [
    "import matplotlib as mpl\n",
    "import matplotlib.pyplot as plt\n",
    "\n",
    "from sklearn.cluster import KMeans\n",
    "\n",
    "image = mpl.image.imread('C:\\Users\\Sahan Rajapaksha\\Documents\\python\\kMeansClustering\\dog.jpg')\n",
    "# plt.imshow(image)\n",
    "# print(image.shape)\n",
    "\n",
    "x = image.reshape(-1,3)\n",
    "# print(x.shape)\n",
    "\n",
    "kmeans = KMeans(n_clusters = 2,n_init=10)\n",
    "kmeans.fit(x) \n",
    "\n",
    "segmented_image = kmeans.cluster_centers_[kmeans.labels_]\n",
    "segmented_image = segmented_image.reshape(image.shape)\n",
    "\n",
    "plt.imshow(segmented_image/255)\n"
   ]
  },
  {
   "cell_type": "code",
   "execution_count": null,
   "id": "d188f449",
   "metadata": {},
   "outputs": [],
   "source": []
  }
 ],
 "metadata": {
  "kernelspec": {
   "display_name": "Python 3 (ipykernel)",
   "language": "python",
   "name": "python3"
  },
  "language_info": {
   "codemirror_mode": {
    "name": "ipython",
    "version": 3
   },
   "file_extension": ".py",
   "mimetype": "text/x-python",
   "name": "python",
   "nbconvert_exporter": "python",
   "pygments_lexer": "ipython3",
   "version": "3.11.3"
  }
 },
 "nbformat": 4,
 "nbformat_minor": 5
}
